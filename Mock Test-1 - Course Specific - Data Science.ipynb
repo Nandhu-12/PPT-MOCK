{
 "cells": [
  {
   "cell_type": "markdown",
   "id": "a480b1de",
   "metadata": {},
   "source": [
    "# Mock Test-1 - Course Specific - Data Science"
   ]
  },
  {
   "cell_type": "markdown",
   "id": "892cb40b",
   "metadata": {},
   "source": [
    "17. Write a function that takes a list of numbers as input and returns a new list containing only the even numbers from the input list. Use list comprehension to solve this problem.\n",
    "\n",
    "Example:\n",
    "\n",
    "Input: [1, 2, 3, 4, 5, 6, 7, 8, 9, 10]\n",
    "\n",
    "Output: [2, 4, 6, 8, 10]"
   ]
  },
  {
   "cell_type": "code",
   "execution_count": 1,
   "id": "4619feff",
   "metadata": {},
   "outputs": [
    {
     "name": "stdout",
     "output_type": "stream",
     "text": [
      "The new list with only even numbers:  [2, 4, 6, 8, 10]\n"
     ]
    }
   ],
   "source": [
    "def even_num(arr):\n",
    "    new_list = [num for num in arr if num % 2 == 0]\n",
    "    return new_list\n",
    "\n",
    "arr = [1,2,3,4,5,6,7,8,9,10]\n",
    "even = even_num(arr)\n",
    "print(\"The new list with only even numbers: \",even)"
   ]
  },
  {
   "cell_type": "markdown",
   "id": "eda7f0ff",
   "metadata": {},
   "source": [
    "19. Write a function called ‘calculate_mean’ that takes a list of numbers as input and returns the mean (average) of the numbers. The function should calculate the mean using the sum of the numbers divided by the total count.\n",
    "\n"
   ]
  },
  {
   "cell_type": "code",
   "execution_count": 3,
   "id": "d6827a9e",
   "metadata": {},
   "outputs": [
    {
     "name": "stdout",
     "output_type": "stream",
     "text": [
      "The Mean is : 20.0\n"
     ]
    }
   ],
   "source": [
    "def mean_value_count(arr):\n",
    "    result = sum(arr)/len(arr)\n",
    "    return result\n",
    "\n",
    "arr = [10,15,20,25,30]\n",
    "mean_value = mean_value_count(arr)\n",
    "print(\"The Mean is :\",mean_value)"
   ]
  },
  {
   "cell_type": "markdown",
   "id": "49b5477f",
   "metadata": {},
   "source": [
    "20. Write a function called ‘perform_hypothesis_test’ that takes two lists of numbers as input, representing two samples. The function should perform a two-sample t-test and return the p-value. Use the ‘scipy.stats’ module in Python to calculate the t-test and p-value."
   ]
  },
  {
   "cell_type": "code",
   "execution_count": 7,
   "id": "047a6d5b",
   "metadata": {},
   "outputs": [
    {
     "name": "stdout",
     "output_type": "stream",
     "text": [
      "The P-value is : 0.09434977284243756\n"
     ]
    }
   ],
   "source": [
    "from scipy import stats\n",
    "\n",
    "def hypothesis_test(arr1, arr2):\n",
    "    t_stat, p_value = stats.ttest_ind(arr1, arr2)\n",
    "    return p_value\n",
    "\n",
    "arr1 = [5, 10, 15, 20, 25]\n",
    "arr2 = [10, 20, 30, 40, 50]\n",
    "p_value = hypothesis_test(arr1, arr2)\n",
    "print(\"The P-value is :\", p_value)"
   ]
  },
  {
   "cell_type": "code",
   "execution_count": null,
   "id": "b793755e",
   "metadata": {},
   "outputs": [],
   "source": []
  },
  {
   "cell_type": "code",
   "execution_count": null,
   "id": "37c9d7ce",
   "metadata": {},
   "outputs": [],
   "source": []
  }
 ],
 "metadata": {
  "kernelspec": {
   "display_name": "Python 3 (ipykernel)",
   "language": "python",
   "name": "python3"
  },
  "language_info": {
   "codemirror_mode": {
    "name": "ipython",
    "version": 3
   },
   "file_extension": ".py",
   "mimetype": "text/x-python",
   "name": "python",
   "nbconvert_exporter": "python",
   "pygments_lexer": "ipython3",
   "version": "3.9.12"
  }
 },
 "nbformat": 4,
 "nbformat_minor": 5
}
