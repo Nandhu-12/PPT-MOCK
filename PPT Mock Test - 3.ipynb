{
 "cells": [
  {
   "cell_type": "markdown",
   "id": "5ba1fe77",
   "metadata": {},
   "source": [
    "# PPT Mock Test"
   ]
  },
  {
   "cell_type": "markdown",
   "id": "ee34cab7",
   "metadata": {},
   "source": [
    "1) Implement a stack using a list in Python. Include the necessary methods such as push, pop, and isEmpty."
   ]
  },
  {
   "cell_type": "code",
   "execution_count": 4,
   "id": "f679cb29",
   "metadata": {},
   "outputs": [
    {
     "name": "stdout",
     "output_type": "stream",
     "text": [
      "Elements pushed into stack :  ['Black', 'White']\n",
      "Elements popped out of stack : \n",
      "White\n",
      "Black\n",
      "stack is empty :  []\n",
      "None\n"
     ]
    }
   ],
   "source": [
    "def stack_operations():\n",
    "    #Creating stack\n",
    "    stack_box = []\n",
    "    \n",
    "    #Push method\n",
    "    stack_box.append('Black')\n",
    "    stack_box.append('White')\n",
    "    print('Elements pushed into stack : ', stack_box)\n",
    "    \n",
    "    #pop method\n",
    "    print('Elements popped out of stack : ')\n",
    "    print(stack_box.pop())\n",
    "    print(stack_box.pop())\n",
    "    \n",
    "    #isEmpty method\n",
    "    if len(stack_box)== 0:\n",
    "        print('stack is empty : ',stack_box)\n",
    "\n",
    "print(stack_operations())"
   ]
  },
  {
   "cell_type": "markdown",
   "id": "7d878a58",
   "metadata": {},
   "source": [
    "2) Implement a queue using a list in Python. Include the necessary methods such as enqueue, dequeue, and isEmpty."
   ]
  },
  {
   "cell_type": "code",
   "execution_count": 5,
   "id": "039624db",
   "metadata": {},
   "outputs": [
    {
     "name": "stdout",
     "output_type": "stream",
     "text": [
      "Elements pushed into queue :  ['Black', 'White']\n",
      "Elements popped out of queue : \n",
      "Black\n",
      "White\n",
      "queue is empty :  []\n",
      "None\n"
     ]
    }
   ],
   "source": [
    "def queue_operations():\n",
    "    #Creating queue\n",
    "    queue_box = []\n",
    "    \n",
    "    #enqueue method\n",
    "    queue_box.append('Black')\n",
    "    queue_box.append('White')\n",
    "    print('Elements pushed into queue : ', queue_box)\n",
    "    \n",
    "    #dequeue method\n",
    "    print('Elements popped out of queue : ')\n",
    "    print(queue_box.pop(0))\n",
    "    print(queue_box.pop(0))\n",
    "    \n",
    "    #isEmpty method\n",
    "    if len(queue_box)== 0:\n",
    "        print('queue is empty : ',queue_box)\n",
    "\n",
    "print(queue_operations())"
   ]
  },
  {
   "cell_type": "code",
   "execution_count": null,
   "id": "25d3b2d6",
   "metadata": {},
   "outputs": [],
   "source": []
  }
 ],
 "metadata": {
  "kernelspec": {
   "display_name": "Python 3 (ipykernel)",
   "language": "python",
   "name": "python3"
  },
  "language_info": {
   "codemirror_mode": {
    "name": "ipython",
    "version": 3
   },
   "file_extension": ".py",
   "mimetype": "text/x-python",
   "name": "python",
   "nbconvert_exporter": "python",
   "pygments_lexer": "ipython3",
   "version": "3.9.12"
  }
 },
 "nbformat": 4,
 "nbformat_minor": 5
}
