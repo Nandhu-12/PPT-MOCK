{
 "cells": [
  {
   "cell_type": "markdown",
   "id": "b616fbf4",
   "metadata": {},
   "source": [
    "# PPT Mock Test"
   ]
  },
  {
   "cell_type": "markdown",
   "id": "9e07d390",
   "metadata": {},
   "source": [
    "1) Move Zeroes\n",
    "\n",
    "Given an integer array nums, move all 0's to the end of it while maintaining the relative order of the non-zero elements.       \n",
    "\n",
    "Note that you must do this in-place without making a copy of the array."
   ]
  },
  {
   "cell_type": "code",
   "execution_count": 58,
   "id": "0111fdab",
   "metadata": {},
   "outputs": [
    {
     "name": "stdout",
     "output_type": "stream",
     "text": [
      "[1, 3, 12, 0, 0]\n"
     ]
    }
   ],
   "source": [
    "class relative_order:\n",
    "   \n",
    "    @classmethod\n",
    "    def zeros_at_end(self,nums):\n",
    "        low = 0\n",
    "        for high in range(len(nums)):\n",
    "            if nums[high] != 0:\n",
    "                nums[low],nums[high] = nums[high],nums[low]\n",
    "                low += 1\n",
    "                \n",
    "        return nums\n",
    "    \n",
    "if __name__ == \"__main__\":\n",
    "    nums = [0,1,0,3,12]\n",
    "    obj1 = relative_order()\n",
    "    print(obj1.zeros_at_end(nums))"
   ]
  },
  {
   "cell_type": "markdown",
   "id": "8fdbc2cb",
   "metadata": {},
   "source": [
    "2) First Unique Character in a String\n",
    "\n",
    "Given a string s, find the first non-repeating character in it and return its index. If it does not exist, return -1."
   ]
  },
  {
   "cell_type": "code",
   "execution_count": 57,
   "id": "8b659ea3",
   "metadata": {},
   "outputs": [
    {
     "name": "stdout",
     "output_type": "stream",
     "text": [
      "2\n"
     ]
    }
   ],
   "source": [
    "class strings:\n",
    "   \n",
    "    @classmethod\n",
    "    def non_repeating_char(self,s):\n",
    "        new_s = list(s)\n",
    "        for char in new_s:\n",
    "            if new_s.count(char) == 1:\n",
    "                return new_s.index(char)  \n",
    "                \n",
    "        else:\n",
    "            return -1\n",
    "                \n",
    "                \n",
    "if __name__ == \"__main__\":\n",
    "    s = \"loveleetcode\"\n",
    "    obj2 = strings()\n",
    "    print(obj2.non_repeating_char(s))"
   ]
  },
  {
   "cell_type": "code",
   "execution_count": null,
   "id": "05bbe08e",
   "metadata": {},
   "outputs": [],
   "source": []
  }
 ],
 "metadata": {
  "kernelspec": {
   "display_name": "Python 3 (ipykernel)",
   "language": "python",
   "name": "python3"
  },
  "language_info": {
   "codemirror_mode": {
    "name": "ipython",
    "version": 3
   },
   "file_extension": ".py",
   "mimetype": "text/x-python",
   "name": "python",
   "nbconvert_exporter": "python",
   "pygments_lexer": "ipython3",
   "version": "3.9.12"
  }
 },
 "nbformat": 4,
 "nbformat_minor": 5
}
