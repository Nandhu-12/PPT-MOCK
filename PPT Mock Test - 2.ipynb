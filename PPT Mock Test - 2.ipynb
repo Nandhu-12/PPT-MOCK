{
 "cells": [
  {
   "cell_type": "markdown",
   "id": "5fef0b19",
   "metadata": {},
   "source": [
    "# PPT Mock Test"
   ]
  },
  {
   "cell_type": "markdown",
   "id": "af1dcc72",
   "metadata": {},
   "source": [
    "1) Given a non-negative integer x, return the square root of x rounded down to the nearest integer. The returned integer should be non-negative as well. You must not use any built-in exponent function or operator. "
   ]
  },
  {
   "cell_type": "code",
   "execution_count": 5,
   "id": "b473077b",
   "metadata": {},
   "outputs": [],
   "source": [
    "\n",
    "def mySqrt( x: int):\n",
    "    left=0\n",
    "    right=10000000\n",
    "    mid=(left+right)//2\n",
    "    while(True):\n",
    "        temp=mid\n",
    "        if mid*mid>x:\n",
    "            right=mid+1\n",
    "        else:\n",
    "            left=mid\n",
    "        mid=(left+right)//2\n",
    "        if temp==mid:\n",
    "            break\n",
    "    return left"
   ]
  },
  {
   "cell_type": "code",
   "execution_count": 6,
   "id": "0fcf3829",
   "metadata": {},
   "outputs": [
    {
     "name": "stdout",
     "output_type": "stream",
     "text": [
      "2\n"
     ]
    }
   ],
   "source": [
    "print(mySqrt(4))"
   ]
  },
  {
   "cell_type": "code",
   "execution_count": null,
   "id": "47f62307",
   "metadata": {},
   "outputs": [],
   "source": []
  }
 ],
 "metadata": {
  "kernelspec": {
   "display_name": "Python 3 (ipykernel)",
   "language": "python",
   "name": "python3"
  },
  "language_info": {
   "codemirror_mode": {
    "name": "ipython",
    "version": 3
   },
   "file_extension": ".py",
   "mimetype": "text/x-python",
   "name": "python",
   "nbconvert_exporter": "python",
   "pygments_lexer": "ipython3",
   "version": "3.9.12"
  }
 },
 "nbformat": 4,
 "nbformat_minor": 5
}
